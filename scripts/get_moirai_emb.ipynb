{
 "cells": [
  {
   "cell_type": "code",
   "execution_count": 1,
   "metadata": {},
   "outputs": [],
   "source": [
    "%load_ext autoreload\n",
    "%autoreload 2\n",
    "\n",
    "import os, sys\n",
    "import random\n",
    "\n",
    "import torch\n",
    "import numpy as np\n",
    "import matplotlib.pyplot as plt\n",
    "\n",
    "from sklearn.manifold import TSNE, locally_linear_embedding\n",
    "from sklearn.decomposition import PCA\n",
    "from sklearn.metrics.pairwise import euclidean_distances\n",
    "from gluonts.dataset.repository import dataset_recipes, get_dataset\n",
    "\n",
    "def seed_everything(seed: int):\n",
    "    import random, os\n",
    "    import numpy as np\n",
    "    import torch\n",
    "    \n",
    "    random.seed(seed)\n",
    "    os.environ['PYTHONHASHSEED'] = str(seed)\n",
    "    np.random.seed(seed)\n",
    "    torch.manual_seed(seed)\n",
    "    torch.cuda.manual_seed(seed)\n",
    "    torch.backends.cudnn.deterministic = True\n",
    "    torch.backends.cudnn.benchmark = True\n",
    "    \n",
    "seed_everything(42)"
   ]
  },
  {
   "cell_type": "code",
   "execution_count": 2,
   "metadata": {},
   "outputs": [
    {
     "name": "stderr",
     "output_type": "stream",
     "text": [
      "2024-09-07 06:05:12.771375: W tensorflow/stream_executor/platform/default/dso_loader.cc:64] Could not load dynamic library 'libcudart.so.11.0'; dlerror: libcudart.so.11.0: cannot open shared object file: No such file or directory\n"
     ]
    }
   ],
   "source": [
    "# moirai_path = os.path.join('..', 'submodules', 'uni2ts', 'src')\n",
    "# sys.path.append(moirai_path)\n",
    "# from uni2ts.eval_util.data import get_gluonts_test_dataset\n",
    "\n",
    "# load_model\n",
    "sys.path.append(\"../\")\n",
    "from probts.model.forecaster.prob_forecaster.moirai import Moirai\n",
    "moirai = Moirai(target_dim=1, context_length=96, prediction_length=96, freq='H', lags_list=[], patch_size=32, variate_mode='S', model_size='small')"
   ]
  },
  {
   "cell_type": "code",
   "execution_count": 3,
   "metadata": {},
   "outputs": [
    {
     "name": "stdout",
     "output_type": "stream",
     "text": [
      "Loading Short-term Datasets: traffic_nips\n"
     ]
    },
    {
     "name": "stdout",
     "output_type": "stream",
     "text": [
      "context_length: 96, prediction_length: 96\n",
      "torch.Size([963, 96])\n",
      "torch.Size([963, 6, 384])\n"
     ]
    }
   ],
   "source": [
    "from probts.data.data_manager import DataManager\n",
    "from torch.utils.data import DataLoader\n",
    "import types\n",
    "\n",
    "data_manager = DataManager(\"traffic_nips\", history_length=96, context_length=96, prediction_length=96, scaler='none')\n",
    "data_loader = DataLoader(data_manager.test_iter_dataset, batch_size=1)\n",
    "\n",
    "pred, emb = moirai.embedding(types.SimpleNamespace(**next(iter(data_loader))))\n",
    "print(pred.shape)\n",
    "print(emb.shape)"
   ]
  },
  {
   "cell_type": "code",
   "execution_count": null,
   "metadata": {},
   "outputs": [],
   "source": []
  }
 ],
 "metadata": {
  "kernelspec": {
   "display_name": "probts_fm",
   "language": "python",
   "name": "python3"
  },
  "language_info": {
   "codemirror_mode": {
    "name": "ipython",
    "version": 3
   },
   "file_extension": ".py",
   "mimetype": "text/x-python",
   "name": "python",
   "nbconvert_exporter": "python",
   "pygments_lexer": "ipython3",
   "version": "3.10.14"
  }
 },
 "nbformat": 4,
 "nbformat_minor": 2
}
